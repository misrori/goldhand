{
 "cells": [
  {
   "cell_type": "code",
   "execution_count": 3,
   "metadata": {},
   "outputs": [],
   "source": [
    "from goldhand import *\n"
   ]
  },
  {
   "cell_type": "code",
   "execution_count": 4,
   "metadata": {},
   "outputs": [],
   "source": [
    "tw=Tw()\n"
   ]
  },
  {
   "cell_type": "code",
   "execution_count": 9,
   "metadata": {},
   "outputs": [
    {
     "name": "stdout",
     "output_type": "stream",
     "text": [
      "crypto_plot.png  df_structure.png  ind_plot.png  sec_plot.png  stock_plot.png\n"
     ]
    }
   ],
   "source": [
    "! ls ../../img"
   ]
  },
  {
   "cell_type": "code",
   "execution_count": 10,
   "metadata": {},
   "outputs": [
    {
     "name": "stderr",
     "output_type": "stream",
     "text": [
      "/home/mihaly/.local/lib/python3.10/site-packages/goldhand/tw.py:159: SettingWithCopyWarning:\n",
      "\n",
      "\n",
      "A value is trying to be set on a copy of a slice from a DataFrame\n",
      "\n",
      "See the caveats in the documentation: https://pandas.pydata.org/pandas-docs/stable/user_guide/indexing.html#returning-a-view-versus-a-copy\n",
      "\n",
      "/home/mihaly/.local/lib/python3.10/site-packages/goldhand/tw.py:181: SettingWithCopyWarning:\n",
      "\n",
      "\n",
      "A value is trying to be set on a copy of a slice from a DataFrame\n",
      "\n",
      "See the caveats in the documentation: https://pandas.pydata.org/pandas-docs/stable/user_guide/indexing.html#returning-a-view-versus-a-copy\n",
      "\n"
     ]
    }
   ],
   "source": [
    "p = tw.get_sec_plot('AMD')\n",
    "p.write_image(\"../../img/sec_plot.png\")\n",
    "\n",
    "p = tw.get_ind_plot('AMD')\n",
    "p.write_image(\"../../img/ind_plot.png\")\n",
    "\n",
    "\n",
    "ticker = \"TSLA\"\n",
    "t = GoldHand(ticker)\n",
    "p = t.plotly_last_year(tw.get_plotly_title(ticker))\n",
    "p.write_image(\"../../img/stock_plot.png\")\n",
    "\n",
    "\n",
    "ticker = \"BTC-USD\"\n",
    "t = GoldHand(ticker)\n",
    "p = t.plotly_last_year(tw.get_plotly_title(ticker))\n",
    "p.write_image(\"../../img/crypto_plot.png\")\n",
    "\n"
   ]
  },
  {
   "cell_type": "code",
   "execution_count": 11,
   "metadata": {},
   "outputs": [],
   "source": [
    "ticker = \"TSLA\"\n",
    "t = GoldHand(ticker)\n",
    "t.plot_goldhand_line(tw.get_plotly_title(ticker))\n",
    "p.write_image(\"../../img/goldhandline_plot.png\")"
   ]
  },
  {
   "cell_type": "code",
   "execution_count": 12,
   "metadata": {},
   "outputs": [
    {
     "ename": "NameError",
     "evalue": "name 't' is not defined",
     "output_type": "error",
     "traceback": [
      "\u001b[0;31m---------------------------------------------------------------------------\u001b[0m",
      "\u001b[0;31mNameError\u001b[0m                                 Traceback (most recent call last)",
      "Cell \u001b[0;32mIn[12], line 6\u001b[0m\n\u001b[1;32m      3\u001b[0m data \u001b[38;5;241m=\u001b[39m GoldHand(ticker)\u001b[38;5;241m.\u001b[39mdf\n\u001b[1;32m      5\u001b[0m \u001b[38;5;66;03m# backtest\u001b[39;00m\n\u001b[0;32m----> 6\u001b[0m backtest \u001b[38;5;241m=\u001b[39m \u001b[43mBacktest\u001b[49m\u001b[43m(\u001b[49m\u001b[43m \u001b[49m\u001b[43mdata\u001b[49m\u001b[43m,\u001b[49m\u001b[43m \u001b[49m\u001b[43mrsi_strategy\u001b[49m\u001b[43m,\u001b[49m\u001b[43m \u001b[49m\u001b[43mplot_title\u001b[49m\u001b[38;5;241;43m=\u001b[39;49m\u001b[43mtw\u001b[49m\u001b[38;5;241;43m.\u001b[39;49m\u001b[43mget_plotly_title\u001b[49m\u001b[43m(\u001b[49m\u001b[43mticker\u001b[49m\u001b[43m)\u001b[49m\u001b[43m,\u001b[49m\u001b[43m  \u001b[49m\u001b[43mbuy_threshold\u001b[49m\u001b[38;5;241;43m=\u001b[39;49m\u001b[38;5;241;43m30\u001b[39;49m\u001b[43m,\u001b[49m\u001b[43m \u001b[49m\u001b[43msell_threshold\u001b[49m\u001b[38;5;241;43m=\u001b[39;49m\u001b[38;5;241;43m70\u001b[39;49m\u001b[43m)\u001b[49m\n",
      "File \u001b[0;32m~/.local/lib/python3.10/site-packages/goldhand/backtest.py:23\u001b[0m, in \u001b[0;36mBacktest.__init__\u001b[0;34m(self, data, strategy_function, plot_title, **kwargs)\u001b[0m\n\u001b[1;32m     21\u001b[0m \u001b[38;5;28mself\u001b[39m\u001b[38;5;241m.\u001b[39madditional_params \u001b[38;5;241m=\u001b[39m kwargs\n\u001b[1;32m     22\u001b[0m \u001b[38;5;28mself\u001b[39m\u001b[38;5;241m.\u001b[39madd_trades()\n\u001b[0;32m---> 23\u001b[0m \u001b[38;5;28;43mself\u001b[39;49m\u001b[38;5;241;43m.\u001b[39;49m\u001b[43msummary_of_trades\u001b[49m\u001b[43m(\u001b[49m\u001b[43m)\u001b[49m\n",
      "File \u001b[0;32m~/.local/lib/python3.10/site-packages/goldhand/backtest.py:84\u001b[0m, in \u001b[0;36mBacktest.summary_of_trades\u001b[0;34m(self)\u001b[0m\n\u001b[1;32m     40\u001b[0m \u001b[38;5;28;01mdef\u001b[39;00m \u001b[38;5;21msummary_of_trades\u001b[39m(\u001b[38;5;28mself\u001b[39m):\n\u001b[1;32m     41\u001b[0m     \u001b[38;5;124;03m\"\"\"\u001b[39;00m\n\u001b[1;32m     42\u001b[0m \u001b[38;5;124;03m    Calculate the summary of the trades\u001b[39;00m\n\u001b[1;32m     43\u001b[0m \u001b[38;5;124;03m    \"\"\"\u001b[39;00m\n\u001b[1;32m     44\u001b[0m     \u001b[38;5;28mself\u001b[39m\u001b[38;5;241m.\u001b[39mtrades_summary \u001b[38;5;241m=\u001b[39m {\n\u001b[1;32m     45\u001b[0m       \u001b[38;5;124m'\u001b[39m\u001b[38;5;124mticker\u001b[39m\u001b[38;5;124m'\u001b[39m : \u001b[38;5;28mself\u001b[39m\u001b[38;5;241m.\u001b[39mdata[\u001b[38;5;124m'\u001b[39m\u001b[38;5;124mticker\u001b[39m\u001b[38;5;124m'\u001b[39m]\u001b[38;5;241m.\u001b[39miloc[\u001b[38;5;241m0\u001b[39m],\n\u001b[1;32m     46\u001b[0m       \u001b[38;5;124m'\u001b[39m\u001b[38;5;124mnumber_of_trades\u001b[39m\u001b[38;5;124m'\u001b[39m : \u001b[38;5;28mself\u001b[39m\u001b[38;5;241m.\u001b[39mtrades\u001b[38;5;241m.\u001b[39mshape[\u001b[38;5;241m0\u001b[39m],\n\u001b[1;32m     47\u001b[0m       \u001b[38;5;124m'\u001b[39m\u001b[38;5;124mwin_ratio(\u001b[39m\u001b[38;5;124m%\u001b[39m\u001b[38;5;124m)\u001b[39m\u001b[38;5;124m'\u001b[39m : \u001b[38;5;28mround\u001b[39m(((\u001b[38;5;28msum\u001b[39m(\u001b[38;5;28mself\u001b[39m\u001b[38;5;241m.\u001b[39mtrades[\u001b[38;5;124m'\u001b[39m\u001b[38;5;124mresult\u001b[39m\u001b[38;5;124m'\u001b[39m] \u001b[38;5;241m>\u001b[39m\u001b[38;5;241m1\u001b[39m) \u001b[38;5;241m/\u001b[39m \u001b[38;5;28mself\u001b[39m\u001b[38;5;241m.\u001b[39mtrades\u001b[38;5;241m.\u001b[39mshape[\u001b[38;5;241m0\u001b[39m])\u001b[38;5;241m*\u001b[39m\u001b[38;5;241m100\u001b[39m),\u001b[38;5;241m2\u001b[39m),\n\u001b[1;32m     48\u001b[0m       \u001b[38;5;124m'\u001b[39m\u001b[38;5;124maverage_res(\u001b[39m\u001b[38;5;124m%\u001b[39m\u001b[38;5;124m)\u001b[39m\u001b[38;5;124m'\u001b[39m : \u001b[38;5;28mround\u001b[39m(((\u001b[38;5;28mself\u001b[39m\u001b[38;5;241m.\u001b[39mtrades[\u001b[38;5;124m'\u001b[39m\u001b[38;5;124mresult\u001b[39m\u001b[38;5;124m'\u001b[39m]\u001b[38;5;241m.\u001b[39mmean()\u001b[38;5;241m-\u001b[39m\u001b[38;5;241m1\u001b[39m)\u001b[38;5;241m*\u001b[39m\u001b[38;5;241m100\u001b[39m),\u001b[38;5;241m2\u001b[39m),\n\u001b[1;32m     49\u001b[0m       \u001b[38;5;124m'\u001b[39m\u001b[38;5;124maverage_trade_len(days)\u001b[39m\u001b[38;5;124m'\u001b[39m :  \u001b[38;5;28mround\u001b[39m(\u001b[38;5;28mself\u001b[39m\u001b[38;5;241m.\u001b[39mtrades[\u001b[38;5;124m'\u001b[39m\u001b[38;5;124mdays_in_trade\u001b[39m\u001b[38;5;124m'\u001b[39m]\u001b[38;5;241m.\u001b[39mmean(), \u001b[38;5;241m0\u001b[39m),\n\u001b[1;32m     50\u001b[0m       \n\u001b[1;32m     51\u001b[0m       \n\u001b[1;32m     52\u001b[0m       \u001b[38;5;124m'\u001b[39m\u001b[38;5;124mmedian_res(\u001b[39m\u001b[38;5;124m%\u001b[39m\u001b[38;5;124m)\u001b[39m\u001b[38;5;124m'\u001b[39m: \u001b[38;5;28mround\u001b[39m(((\u001b[38;5;28mself\u001b[39m\u001b[38;5;241m.\u001b[39mtrades[\u001b[38;5;124m'\u001b[39m\u001b[38;5;124mresult\u001b[39m\u001b[38;5;124m'\u001b[39m]\u001b[38;5;241m.\u001b[39mmedian()\u001b[38;5;241m-\u001b[39m\u001b[38;5;241m1\u001b[39m)\u001b[38;5;241m*\u001b[39m\u001b[38;5;241m100\u001b[39m),\u001b[38;5;241m2\u001b[39m),\n\u001b[1;32m     53\u001b[0m       \u001b[38;5;124m'\u001b[39m\u001b[38;5;124mcumulative_result\u001b[39m\u001b[38;5;124m'\u001b[39m: \u001b[38;5;28mlist\u001b[39m(np\u001b[38;5;241m.\u001b[39mcumprod(\u001b[38;5;28mself\u001b[39m\u001b[38;5;241m.\u001b[39mtrades[\u001b[38;5;124m'\u001b[39m\u001b[38;5;124mresult\u001b[39m\u001b[38;5;124m'\u001b[39m], axis\u001b[38;5;241m=\u001b[39m\u001b[38;5;241m0\u001b[39m))[\u001b[38;5;241m-\u001b[39m\u001b[38;5;241m1\u001b[39m],\n\u001b[1;32m     54\u001b[0m       \u001b[38;5;124m'\u001b[39m\u001b[38;5;124mtrade_results\u001b[39m\u001b[38;5;124m'\u001b[39m: \u001b[38;5;124m'\u001b[39m\u001b[38;5;124m # \u001b[39m\u001b[38;5;124m'\u001b[39m\u001b[38;5;241m.\u001b[39mjoin([ \u001b[38;5;28mstr\u001b[39m(\u001b[38;5;28mround\u001b[39m(((x\u001b[38;5;241m-\u001b[39m\u001b[38;5;241m1\u001b[39m)\u001b[38;5;241m*\u001b[39m\u001b[38;5;241m100\u001b[39m),\u001b[38;5;241m2\u001b[39m)) \u001b[38;5;28;01mfor\u001b[39;00m x \u001b[38;5;129;01min\u001b[39;00m \u001b[38;5;28mself\u001b[39m\u001b[38;5;241m.\u001b[39mtrades[\u001b[38;5;124m'\u001b[39m\u001b[38;5;124mresult\u001b[39m\u001b[38;5;124m'\u001b[39m]]),\n\u001b[1;32m     55\u001b[0m \n\u001b[1;32m     56\u001b[0m       \u001b[38;5;124m'\u001b[39m\u001b[38;5;124mprofitable_trade_results\u001b[39m\u001b[38;5;124m'\u001b[39m: \u001b[38;5;124m'\u001b[39m\u001b[38;5;124m # \u001b[39m\u001b[38;5;124m'\u001b[39m\u001b[38;5;241m.\u001b[39mjoin([ \u001b[38;5;28mstr\u001b[39m(\u001b[38;5;28mround\u001b[39m(((x\u001b[38;5;241m-\u001b[39m\u001b[38;5;241m1\u001b[39m)\u001b[38;5;241m*\u001b[39m\u001b[38;5;241m100\u001b[39m),\u001b[38;5;241m2\u001b[39m)) \u001b[38;5;28;01mfor\u001b[39;00m x \u001b[38;5;129;01min\u001b[39;00m \u001b[38;5;28mself\u001b[39m\u001b[38;5;241m.\u001b[39mtrades[\u001b[38;5;124m'\u001b[39m\u001b[38;5;124mresult\u001b[39m\u001b[38;5;124m'\u001b[39m] \u001b[38;5;28;01mif\u001b[39;00m x\u001b[38;5;241m>\u001b[39m\u001b[38;5;241m=\u001b[39m\u001b[38;5;241m1\u001b[39m]),\n\u001b[1;32m     57\u001b[0m \n\u001b[1;32m     58\u001b[0m       \u001b[38;5;124m'\u001b[39m\u001b[38;5;124mprofitable_trades_mean\u001b[39m\u001b[38;5;124m'\u001b[39m : \u001b[38;5;28mround\u001b[39m((( np\u001b[38;5;241m.\u001b[39mmean([x \u001b[38;5;28;01mfor\u001b[39;00m x \u001b[38;5;129;01min\u001b[39;00m \u001b[38;5;28mself\u001b[39m\u001b[38;5;241m.\u001b[39mtrades[\u001b[38;5;124m'\u001b[39m\u001b[38;5;124mresult\u001b[39m\u001b[38;5;124m'\u001b[39m] \u001b[38;5;28;01mif\u001b[39;00m x\u001b[38;5;241m>\u001b[39m\u001b[38;5;241m=\u001b[39m\u001b[38;5;241m1\u001b[39m]) \u001b[38;5;241m-\u001b[39m\u001b[38;5;241m1\u001b[39m)\u001b[38;5;241m*\u001b[39m\u001b[38;5;241m100\u001b[39m),\u001b[38;5;241m2\u001b[39m),\n\u001b[1;32m     59\u001b[0m       \u001b[38;5;124m'\u001b[39m\u001b[38;5;124mprofitable_trades_median\u001b[39m\u001b[38;5;124m'\u001b[39m : \u001b[38;5;28mround\u001b[39m((( np\u001b[38;5;241m.\u001b[39mmedian([x \u001b[38;5;28;01mfor\u001b[39;00m x \u001b[38;5;129;01min\u001b[39;00m \u001b[38;5;28mself\u001b[39m\u001b[38;5;241m.\u001b[39mtrades[\u001b[38;5;124m'\u001b[39m\u001b[38;5;124mresult\u001b[39m\u001b[38;5;124m'\u001b[39m] \u001b[38;5;28;01mif\u001b[39;00m x\u001b[38;5;241m>\u001b[39m\u001b[38;5;241m=\u001b[39m\u001b[38;5;241m1\u001b[39m])\u001b[38;5;241m-\u001b[39m\u001b[38;5;241m1\u001b[39m)\u001b[38;5;241m*\u001b[39m\u001b[38;5;241m100\u001b[39m),\u001b[38;5;241m2\u001b[39m),\n\u001b[1;32m     60\u001b[0m \n\u001b[1;32m     61\u001b[0m       \u001b[38;5;124m'\u001b[39m\u001b[38;5;124mlooser_trade_results\u001b[39m\u001b[38;5;124m'\u001b[39m: \u001b[38;5;124m'\u001b[39m\u001b[38;5;124m # \u001b[39m\u001b[38;5;124m'\u001b[39m\u001b[38;5;241m.\u001b[39mjoin([ \u001b[38;5;28mstr\u001b[39m(\u001b[38;5;28mround\u001b[39m(((x\u001b[38;5;241m-\u001b[39m\u001b[38;5;241m1\u001b[39m)\u001b[38;5;241m*\u001b[39m\u001b[38;5;241m100\u001b[39m),\u001b[38;5;241m2\u001b[39m)) \u001b[38;5;28;01mfor\u001b[39;00m x \u001b[38;5;129;01min\u001b[39;00m \u001b[38;5;28mself\u001b[39m\u001b[38;5;241m.\u001b[39mtrades[\u001b[38;5;124m'\u001b[39m\u001b[38;5;124mresult\u001b[39m\u001b[38;5;124m'\u001b[39m] \u001b[38;5;28;01mif\u001b[39;00m x\u001b[38;5;241m<\u001b[39m\u001b[38;5;241m1\u001b[39m]),\n\u001b[1;32m     62\u001b[0m \n\u001b[1;32m     63\u001b[0m       \u001b[38;5;124m'\u001b[39m\u001b[38;5;124mlooser_trades_mean\u001b[39m\u001b[38;5;124m'\u001b[39m : \u001b[38;5;28mround\u001b[39m((( np\u001b[38;5;241m.\u001b[39mmean([x \u001b[38;5;28;01mfor\u001b[39;00m x \u001b[38;5;129;01min\u001b[39;00m \u001b[38;5;28mself\u001b[39m\u001b[38;5;241m.\u001b[39mtrades[\u001b[38;5;124m'\u001b[39m\u001b[38;5;124mresult\u001b[39m\u001b[38;5;124m'\u001b[39m] \u001b[38;5;28;01mif\u001b[39;00m x\u001b[38;5;241m<\u001b[39m\u001b[38;5;241m1\u001b[39m])\u001b[38;5;241m-\u001b[39m\u001b[38;5;241m1\u001b[39m)\u001b[38;5;241m*\u001b[39m\u001b[38;5;241m100\u001b[39m),\u001b[38;5;241m2\u001b[39m),\n\u001b[1;32m     64\u001b[0m       \u001b[38;5;124m'\u001b[39m\u001b[38;5;124mlooser_trades_median\u001b[39m\u001b[38;5;124m'\u001b[39m : \u001b[38;5;28mround\u001b[39m((( np\u001b[38;5;241m.\u001b[39mmedian([x \u001b[38;5;28;01mfor\u001b[39;00m x \u001b[38;5;129;01min\u001b[39;00m \u001b[38;5;28mself\u001b[39m\u001b[38;5;241m.\u001b[39mtrades[\u001b[38;5;124m'\u001b[39m\u001b[38;5;124mresult\u001b[39m\u001b[38;5;124m'\u001b[39m] \u001b[38;5;28;01mif\u001b[39;00m x\u001b[38;5;241m<\u001b[39m\u001b[38;5;241m1\u001b[39m])\u001b[38;5;241m-\u001b[39m\u001b[38;5;241m1\u001b[39m)\u001b[38;5;241m*\u001b[39m\u001b[38;5;241m100\u001b[39m),\u001b[38;5;241m2\u001b[39m),\n\u001b[1;32m     65\u001b[0m \n\u001b[1;32m     66\u001b[0m       \u001b[38;5;124m'\u001b[39m\u001b[38;5;124mmedian_trade_len(days)\u001b[39m\u001b[38;5;124m'\u001b[39m :  \u001b[38;5;28mself\u001b[39m\u001b[38;5;241m.\u001b[39mtrades[\u001b[38;5;124m'\u001b[39m\u001b[38;5;124mdays_in_trade\u001b[39m\u001b[38;5;124m'\u001b[39m]\u001b[38;5;241m.\u001b[39mmedian(),\n\u001b[1;32m     67\u001b[0m \n\u001b[1;32m     68\u001b[0m \n\u001b[1;32m     69\u001b[0m       \u001b[38;5;124m'\u001b[39m\u001b[38;5;124mnumber_of_win_trades\u001b[39m\u001b[38;5;124m'\u001b[39m: \u001b[38;5;28msum\u001b[39m(\u001b[38;5;28mself\u001b[39m\u001b[38;5;241m.\u001b[39mtrades[\u001b[38;5;124m'\u001b[39m\u001b[38;5;124mresult\u001b[39m\u001b[38;5;124m'\u001b[39m] \u001b[38;5;241m>\u001b[39m\u001b[38;5;241m1\u001b[39m),\n\u001b[1;32m     70\u001b[0m       \u001b[38;5;124m'\u001b[39m\u001b[38;5;124mnumber_of_lost_trades\u001b[39m\u001b[38;5;124m'\u001b[39m: (\u001b[38;5;28mself\u001b[39m\u001b[38;5;241m.\u001b[39mtrades\u001b[38;5;241m.\u001b[39mshape[\u001b[38;5;241m0\u001b[39m] \u001b[38;5;241m-\u001b[39m \u001b[38;5;28msum\u001b[39m(\u001b[38;5;28mself\u001b[39m\u001b[38;5;241m.\u001b[39mtrades[\u001b[38;5;124m'\u001b[39m\u001b[38;5;124mresult\u001b[39m\u001b[38;5;124m'\u001b[39m] \u001b[38;5;241m>\u001b[39m\u001b[38;5;241m1\u001b[39m)),\n\u001b[1;32m     71\u001b[0m \n\u001b[1;32m     72\u001b[0m       \u001b[38;5;124m'\u001b[39m\u001b[38;5;124mmax_gain(\u001b[39m\u001b[38;5;124m%\u001b[39m\u001b[38;5;124m)\u001b[39m\u001b[38;5;124m'\u001b[39m : \u001b[38;5;28mround\u001b[39m(((\u001b[38;5;28mself\u001b[39m\u001b[38;5;241m.\u001b[39mtrades[\u001b[38;5;124m'\u001b[39m\u001b[38;5;124mresult\u001b[39m\u001b[38;5;124m'\u001b[39m]\u001b[38;5;241m.\u001b[39mmax()\u001b[38;5;241m-\u001b[39m\u001b[38;5;241m1\u001b[39m)\u001b[38;5;241m*\u001b[39m\u001b[38;5;241m100\u001b[39m),\u001b[38;5;241m2\u001b[39m),\n\u001b[1;32m     73\u001b[0m       \u001b[38;5;124m'\u001b[39m\u001b[38;5;124mmax_lost(\u001b[39m\u001b[38;5;124m%\u001b[39m\u001b[38;5;124m)\u001b[39m\u001b[38;5;124m'\u001b[39m : \u001b[38;5;28mround\u001b[39m(((\u001b[38;5;28mself\u001b[39m\u001b[38;5;241m.\u001b[39mtrades[\u001b[38;5;124m'\u001b[39m\u001b[38;5;124mresult\u001b[39m\u001b[38;5;124m'\u001b[39m]\u001b[38;5;241m.\u001b[39mmin()\u001b[38;5;241m-\u001b[39m\u001b[38;5;241m1\u001b[39m)\u001b[38;5;241m*\u001b[39m\u001b[38;5;241m100\u001b[39m),\u001b[38;5;241m2\u001b[39m),\n\u001b[1;32m     74\u001b[0m \n\u001b[1;32m     75\u001b[0m       \u001b[38;5;124m'\u001b[39m\u001b[38;5;124mfirst_trade_buy\u001b[39m\u001b[38;5;124m'\u001b[39m : \u001b[38;5;28mmin\u001b[39m(\u001b[38;5;28mself\u001b[39m\u001b[38;5;241m.\u001b[39mtrades[\u001b[38;5;124m'\u001b[39m\u001b[38;5;124mbuy_date\u001b[39m\u001b[38;5;124m'\u001b[39m]),\n\u001b[1;32m     76\u001b[0m       \n\u001b[1;32m     77\u001b[0m       \n\u001b[1;32m     78\u001b[0m       \u001b[38;5;124m'\u001b[39m\u001b[38;5;124mfirst_data_date\u001b[39m\u001b[38;5;124m'\u001b[39m : \u001b[38;5;28mself\u001b[39m\u001b[38;5;241m.\u001b[39mdata[\u001b[38;5;124m'\u001b[39m\u001b[38;5;124mdate\u001b[39m\u001b[38;5;124m'\u001b[39m]\u001b[38;5;241m.\u001b[39miloc[\u001b[38;5;241m0\u001b[39m],\n\u001b[1;32m     79\u001b[0m       \u001b[38;5;124m'\u001b[39m\u001b[38;5;124mfirst_open_price\u001b[39m\u001b[38;5;124m'\u001b[39m : \u001b[38;5;28mself\u001b[39m\u001b[38;5;241m.\u001b[39mdata[\u001b[38;5;124m'\u001b[39m\u001b[38;5;124mopen\u001b[39m\u001b[38;5;124m'\u001b[39m]\u001b[38;5;241m.\u001b[39miloc[\u001b[38;5;241m0\u001b[39m],\n\u001b[1;32m     80\u001b[0m       \n\u001b[1;32m     81\u001b[0m       \u001b[38;5;124m'\u001b[39m\u001b[38;5;124mlast_data_date\u001b[39m\u001b[38;5;124m'\u001b[39m : \u001b[38;5;28mself\u001b[39m\u001b[38;5;241m.\u001b[39mdata[\u001b[38;5;124m'\u001b[39m\u001b[38;5;124mdate\u001b[39m\u001b[38;5;124m'\u001b[39m]\u001b[38;5;241m.\u001b[39miloc[\u001b[38;5;241m-\u001b[39m\u001b[38;5;241m1\u001b[39m],\n\u001b[1;32m     82\u001b[0m       \u001b[38;5;124m'\u001b[39m\u001b[38;5;124mlast_close_price\u001b[39m\u001b[38;5;124m'\u001b[39m : \u001b[38;5;28mself\u001b[39m\u001b[38;5;241m.\u001b[39mdata[\u001b[38;5;124m'\u001b[39m\u001b[38;5;124mclose\u001b[39m\u001b[38;5;124m'\u001b[39m]\u001b[38;5;241m.\u001b[39miloc[\u001b[38;5;241m-\u001b[39m\u001b[38;5;241m1\u001b[39m],\n\u001b[1;32m     83\u001b[0m       \n\u001b[0;32m---> 84\u001b[0m       \u001b[38;5;124m'\u001b[39m\u001b[38;5;124mhold_result\u001b[39m\u001b[38;5;124m'\u001b[39m : \u001b[38;5;124mf\u001b[39m\u001b[38;5;124m\"\u001b[39m\u001b[38;5;132;01m{\u001b[39;00m\u001b[38;5;28mround\u001b[39m(\u001b[43mt\u001b[49m\u001b[38;5;241m.\u001b[39mdf[\u001b[38;5;124m'\u001b[39m\u001b[38;5;124mclose\u001b[39m\u001b[38;5;124m'\u001b[39m]\u001b[38;5;241m.\u001b[39miloc[\u001b[38;5;241m-\u001b[39m\u001b[38;5;241m1\u001b[39m] \u001b[38;5;241m/\u001b[39m t\u001b[38;5;241m.\u001b[39mdf[\u001b[38;5;124m'\u001b[39m\u001b[38;5;124mopen\u001b[39m\u001b[38;5;124m'\u001b[39m]\u001b[38;5;241m.\u001b[39miloc[\u001b[38;5;241m0\u001b[39m],\u001b[38;5;241m2\u001b[39m)\u001b[38;5;132;01m}\u001b[39;00m\u001b[38;5;124m x\u001b[39m\u001b[38;5;124m\"\u001b[39m,\n\u001b[1;32m     85\u001b[0m       \n\u001b[1;32m     86\u001b[0m \n\u001b[1;32m     87\u001b[0m     }\n\u001b[1;32m     88\u001b[0m     \u001b[38;5;28mself\u001b[39m\u001b[38;5;241m.\u001b[39mtrades_summary\u001b[38;5;241m.\u001b[39mupdate(\u001b[38;5;28mself\u001b[39m\u001b[38;5;241m.\u001b[39madditional_params)\n",
      "\u001b[0;31mNameError\u001b[0m: name 't' is not defined"
     ]
    }
   ],
   "source": [
    "ticker= 'TSLA'\n",
    "\n",
    "data = GoldHand(ticker).df\n",
    "\n",
    "# backtest\n",
    "backtest = Backtest( data, rsi_strategy, plot_title=tw.get_plotly_title(ticker),  buy_threshold=30, sell_threshold=70)\n"
   ]
  },
  {
   "cell_type": "code",
   "execution_count": null,
   "metadata": {},
   "outputs": [],
   "source": []
  }
 ],
 "metadata": {
  "kernelspec": {
   "display_name": "Python 3",
   "language": "python",
   "name": "python3"
  },
  "language_info": {
   "codemirror_mode": {
    "name": "ipython",
    "version": 3
   },
   "file_extension": ".py",
   "mimetype": "text/x-python",
   "name": "python",
   "nbconvert_exporter": "python",
   "pygments_lexer": "ipython3",
   "version": "3.10.12"
  }
 },
 "nbformat": 4,
 "nbformat_minor": 2
}
